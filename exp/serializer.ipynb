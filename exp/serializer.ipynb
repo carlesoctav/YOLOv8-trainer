{
 "cells": [
  {
   "cell_type": "code",
   "execution_count": 2,
   "metadata": {},
   "outputs": [
    {
     "name": "stderr",
     "output_type": "stream",
     "text": [
      "2023-08-24 01:06:44.925895: I tensorflow/compiler/xla/stream_executor/tpu/tpu_initializer_helper.cc:269] Libtpu path is: libtpu.so\n",
      "D0824 01:06:45.036155729 1954855 config.cc:112]                        gRPC EXPERIMENT tcp_frame_size_tuning               OFF (default:OFF)\n",
      "D0824 01:06:45.036175220 1954855 config.cc:112]                        gRPC EXPERIMENT tcp_rcv_lowat                       OFF (default:OFF)\n",
      "D0824 01:06:45.036180225 1954855 config.cc:112]                        gRPC EXPERIMENT peer_state_based_framing            OFF (default:OFF)\n",
      "D0824 01:06:45.036184806 1954855 config.cc:112]                        gRPC EXPERIMENT flow_control_fixes                  ON  (default:ON)\n",
      "D0824 01:06:45.036189367 1954855 config.cc:112]                        gRPC EXPERIMENT memory_pressure_controller          OFF (default:OFF)\n",
      "D0824 01:06:45.036193607 1954855 config.cc:112]                        gRPC EXPERIMENT unconstrained_max_quota_buffer_size OFF (default:OFF)\n",
      "D0824 01:06:45.036197826 1954855 config.cc:112]                        gRPC EXPERIMENT event_engine_client                 OFF (default:OFF)\n",
      "D0824 01:06:45.036201983 1954855 config.cc:112]                        gRPC EXPERIMENT monitoring_experiment               ON  (default:ON)\n",
      "D0824 01:06:45.036206075 1954855 config.cc:112]                        gRPC EXPERIMENT promise_based_client_call           OFF (default:OFF)\n",
      "D0824 01:06:45.036210287 1954855 config.cc:112]                        gRPC EXPERIMENT free_large_allocator                OFF (default:OFF)\n",
      "D0824 01:06:45.036214533 1954855 config.cc:112]                        gRPC EXPERIMENT promise_based_server_call           OFF (default:OFF)\n",
      "D0824 01:06:45.036218729 1954855 config.cc:112]                        gRPC EXPERIMENT transport_supplies_client_latency   OFF (default:OFF)\n",
      "D0824 01:06:45.036222867 1954855 config.cc:112]                        gRPC EXPERIMENT event_engine_listener               OFF (default:OFF)\n",
      "D0824 01:06:45.036227040 1954855 config.cc:112]                        gRPC EXPERIMENT schedule_cancellation_over_write    OFF (default:OFF)\n",
      "D0824 01:06:45.036231169 1954855 config.cc:112]                        gRPC EXPERIMENT trace_record_callops                OFF (default:OFF)\n",
      "D0824 01:06:45.036235282 1954855 config.cc:112]                        gRPC EXPERIMENT event_engine_dns                    OFF (default:OFF)\n",
      "I0824 01:06:45.036489525 1954855 ev_epoll1_linux.cc:122]               grpc epoll fd: 79\n",
      "D0824 01:06:45.036512485 1954855 ev_posix.cc:113]                      Using polling engine: epoll1\n",
      "D0824 01:06:45.036864439 1954855 lb_policy_registry.cc:46]             registering LB policy factory for \"priority_experimental\"\n",
      "D0824 01:06:45.036872566 1954855 lb_policy_registry.cc:46]             registering LB policy factory for \"outlier_detection_experimental\"\n",
      "D0824 01:06:45.036883072 1954855 lb_policy_registry.cc:46]             registering LB policy factory for \"weighted_target_experimental\"\n",
      "D0824 01:06:45.036888820 1954855 lb_policy_registry.cc:46]             registering LB policy factory for \"pick_first\"\n",
      "D0824 01:06:45.036894267 1954855 lb_policy_registry.cc:46]             registering LB policy factory for \"round_robin\"\n",
      "D0824 01:06:45.036899408 1954855 lb_policy_registry.cc:46]             registering LB policy factory for \"weighted_round_robin\"\n",
      "D0824 01:06:45.036918283 1954855 lb_policy_registry.cc:46]             registering LB policy factory for \"ring_hash_experimental\"\n",
      "D0824 01:06:45.036946347 1954855 lb_policy_registry.cc:46]             registering LB policy factory for \"grpclb\"\n",
      "D0824 01:06:45.036968166 1954855 dns_resolver_plugin.cc:44]            Using ares dns resolver\n",
      "D0824 01:06:45.036991749 1954855 lb_policy_registry.cc:46]             registering LB policy factory for \"rls_experimental\"\n",
      "D0824 01:06:45.037014878 1954855 lb_policy_registry.cc:46]             registering LB policy factory for \"xds_cluster_manager_experimental\"\n",
      "D0824 01:06:45.037020658 1954855 lb_policy_registry.cc:46]             registering LB policy factory for \"xds_cluster_impl_experimental\"\n",
      "D0824 01:06:45.037026010 1954855 lb_policy_registry.cc:46]             registering LB policy factory for \"cds_experimental\"\n",
      "D0824 01:06:45.037031738 1954855 lb_policy_registry.cc:46]             registering LB policy factory for \"xds_cluster_resolver_experimental\"\n",
      "D0824 01:06:45.037038701 1954855 lb_policy_registry.cc:46]             registering LB policy factory for \"xds_override_host_experimental\"\n",
      "D0824 01:06:45.037044102 1954855 lb_policy_registry.cc:46]             registering LB policy factory for \"xds_wrr_locality_experimental\"\n",
      "D0824 01:06:45.037054096 1954855 certificate_provider_registry.cc:35]  registering certificate provider factory for \"file_watcher\"\n",
      "I0824 01:06:45.038687121 1954855 ev_epoll1_linux.cc:362]               grpc epoll fd: 81\n",
      "I0824 01:06:45.062996871 1954855 socket_utils_common_posix.cc:337]     TCP_USER_TIMEOUT is available. TCP_USER_TIMEOUT will be used thereafter\n",
      "2023-08-24 01:06:45.082965: I tensorflow/core/platform/cpu_feature_guard.cc:182] This TensorFlow binary is optimized to use available CPU instructions in performance-critical operations.\n",
      "To enable the following instructions: AVX2 AVX512F FMA, in other operations, rebuild TensorFlow with the appropriate compiler flags.\n"
     ]
    }
   ],
   "source": [
    "import tensorflow as tf\n",
    "from tensorflow import keras"
   ]
  },
  {
   "cell_type": "code",
   "execution_count": 3,
   "metadata": {},
   "outputs": [],
   "source": [
    "SPLIT_RATIO = 0.2\n",
    "BATCH_SIZE = 4\n",
    "LEARNING_RATE = 0.001\n",
    "EPOCH = 5\n",
    "GLOBAL_CLIPNORM = 10.0\n"
   ]
  },
  {
   "cell_type": "code",
   "execution_count": 5,
   "metadata": {},
   "outputs": [
    {
     "name": "stderr",
     "output_type": "stream",
     "text": [
      "2023-08-24 01:07:50.201697: I tensorflow/compiler/xla/service/service.cc:168] XLA service 0x55f9753c6070 initialized for platform TPU (this does not guarantee that XLA will be used). Devices:\n",
      "2023-08-24 01:07:50.201743: I tensorflow/compiler/xla/service/service.cc:176]   StreamExecutor device (0): TPU, 2a886c8\n",
      "2023-08-24 01:07:50.201755: I tensorflow/compiler/xla/service/service.cc:176]   StreamExecutor device (1): TPU, 2a886c8\n",
      "2023-08-24 01:07:50.201766: I tensorflow/compiler/xla/service/service.cc:176]   StreamExecutor device (2): TPU, 2a886c8\n",
      "2023-08-24 01:07:50.201776: I tensorflow/compiler/xla/service/service.cc:176]   StreamExecutor device (3): TPU, 2a886c8\n",
      "2023-08-24 01:07:50.201787: I tensorflow/compiler/xla/service/service.cc:176]   StreamExecutor device (4): TPU, 2a886c8\n",
      "2023-08-24 01:07:50.201796: I tensorflow/compiler/xla/service/service.cc:176]   StreamExecutor device (5): TPU, 2a886c8\n",
      "2023-08-24 01:07:50.201807: I tensorflow/compiler/xla/service/service.cc:176]   StreamExecutor device (6): TPU, 2a886c8\n",
      "2023-08-24 01:07:50.201817: I tensorflow/compiler/xla/service/service.cc:176]   StreamExecutor device (7): TPU, 2a886c8\n"
     ]
    }
   ],
   "source": [
    "optimizer = tf.keras.optimizers.Adam(\n",
    "    learning_rate=0.001,\n",
    "    global_clipnorm=GLOBAL_CLIPNORM,\n",
    ")"
   ]
  },
  {
   "cell_type": "code",
   "execution_count": 6,
   "metadata": {},
   "outputs": [
    {
     "name": "stdout",
     "output_type": "stream",
     "text": [
      "{'module': 'keras.optimizers', 'class_name': 'Adam', 'config': {'name': 'Adam', 'weight_decay': None, 'clipnorm': None, 'global_clipnorm': 10.0, 'clipvalue': None, 'use_ema': False, 'ema_momentum': 0.99, 'ema_overwrite_frequency': None, 'jit_compile': False, 'is_legacy_optimizer': False, 'learning_rate': 0.0010000000474974513, 'beta_1': 0.9, 'beta_2': 0.999, 'epsilon': 1e-07, 'amsgrad': False}, 'registered_name': None}\n"
     ]
    }
   ],
   "source": [
    "serialized_optimizer = tf.keras.optimizers.serialize(optimizer)\n",
    "\n",
    "print(serialized_optimizer)\n"
   ]
  },
  {
   "cell_type": "code",
   "execution_count": 11,
   "metadata": {},
   "outputs": [],
   "source": [
    " a = tf.keras.optimizers.deserialize(serialized_optimizer)"
   ]
  },
  {
   "cell_type": "code",
   "execution_count": 14,
   "metadata": {},
   "outputs": [
    {
     "name": "stdout",
     "output_type": "stream",
     "text": [
      "Using TensorFlow backend\n"
     ]
    },
    {
     "name": "stderr",
     "output_type": "stream",
     "text": [
      "/home/carles/.local/lib/python3.10/site-packages/tqdm/auto.py:21: TqdmWarning: IProgress not found. Please update jupyter and ipywidgets. See https://ipywidgets.readthedocs.io/en/stable/user_install.html\n",
      "  from .autonotebook import tqdm as notebook_tqdm\n"
     ]
    }
   ],
   "source": [
    "import keras_cv"
   ]
  },
  {
   "cell_type": "code",
   "execution_count": 16,
   "metadata": {},
   "outputs": [],
   "source": [
    "model = keras_cv.models.YOLOV8Backbone.from_preset(\"yolo_v8_xs_backbone_coco\")"
   ]
  },
  {
   "cell_type": "code",
   "execution_count": 17,
   "metadata": {},
   "outputs": [
    {
     "name": "stdout",
     "output_type": "stream",
     "text": [
      "{\"class_name\": \"YOLOV8Backbone\", \"config\": {\"name\": \"yolov8_backbone\", \"trainable\": true, \"include_rescaling\": true, \"input_shape\": [null, null, 3], \"stackwise_channels\": [32, 64, 128, 256], \"stackwise_depth\": [1, 2, 2, 1], \"activation\": \"swish\"}, \"keras_version\": \"2.13.1\", \"backend\": \"tensorflow\"}\n"
     ]
    }
   ],
   "source": [
    "serialized_model = model.to_json()\n",
    "print(serialized_model)\n"
   ]
  },
  {
   "cell_type": "code",
   "execution_count": 25,
   "metadata": {},
   "outputs": [],
   "source": [
    "model_2 = tf.keras.models.model_from_json(serialized_model)\n"
   ]
  },
  {
   "cell_type": "code",
   "execution_count": 28,
   "metadata": {},
   "outputs": [],
   "source": [
    "augmenter = keras.Sequential(\n",
    "    layers=[\n",
    "        keras_cv.layers.RandomFlip(mode=\"horizontal\", bounding_box_format=\"xyxy\"),\n",
    "        keras_cv.layers.RandomShear(\n",
    "            x_factor=0.2, y_factor=0.2, bounding_box_format=\"xyxy\"\n",
    "        ),\n",
    "        keras_cv.layers.JitteredResize(\n",
    "            target_size=(640, 640), scale_factor=(0.75, 1.3), bounding_box_format=\"xyxy\"\n",
    "        ),\n",
    "    ]\n",
    ")\n"
   ]
  },
  {
   "cell_type": "code",
   "execution_count": 29,
   "metadata": {},
   "outputs": [
    {
     "data": {
      "text/plain": [
       "'{\"class_name\": \"Sequential\", \"config\": {\"name\": \"sequential\", \"layers\": [{\"module\": \"keras_cv.layers.preprocessing.random_flip\", \"class_name\": \"RandomFlip\", \"config\": {\"name\": \"random_flip\", \"trainable\": true, \"dtype\": \"float32\", \"mode\": \"horizontal\", \"rate\": 0.5, \"seed\": null, \"bounding_box_format\": \"xyxy\"}, \"registered_name\": \"keras_cv>RandomFlip\"}, {\"module\": \"keras_cv.layers.preprocessing.random_shear\", \"class_name\": \"RandomShear\", \"config\": {\"name\": \"random_shear\", \"trainable\": true, \"dtype\": \"float32\", \"x_factor\": {\"module\": \"keras_cv.core.factor_sampler.uniform_factor_sampler\", \"class_name\": \"UniformFactorSampler\", \"config\": {\"lower\": 0.0, \"upper\": 0.2, \"seed\": null}, \"registered_name\": \"keras_cv>UniformFactorSampler\"}, \"y_factor\": {\"module\": \"keras_cv.core.factor_sampler.uniform_factor_sampler\", \"class_name\": \"UniformFactorSampler\", \"config\": {\"lower\": 0.0, \"upper\": 0.2, \"seed\": null}, \"registered_name\": \"keras_cv>UniformFactorSampler\"}, \"interpolation\": \"bilinear\", \"fill_mode\": \"reflect\", \"fill_value\": 0.0, \"bounding_box_format\": \"xyxy\", \"seed\": null}, \"registered_name\": \"keras_cv>RandomShear\"}, {\"module\": \"keras_cv.layers.preprocessing.jittered_resize\", \"class_name\": \"JitteredResize\", \"config\": {\"name\": \"jittered_resize\", \"trainable\": true, \"dtype\": \"float32\", \"target_size\": [640, 640], \"scale_factor\": {\"module\": \"keras_cv.core.factor_sampler.uniform_factor_sampler\", \"class_name\": \"UniformFactorSampler\", \"config\": {\"lower\": 0.75, \"upper\": 1.3, \"seed\": null}, \"registered_name\": \"keras_cv>UniformFactorSampler\"}, \"crop_size\": [640, 640], \"bounding_box_format\": \"xyxy\", \"interpolation\": \"bilinear\", \"seed\": null}, \"registered_name\": \"keras_cv>JitteredResize\"}]}, \"keras_version\": \"2.13.1\", \"backend\": \"tensorflow\"}'"
      ]
     },
     "execution_count": 29,
     "metadata": {},
     "output_type": "execute_result"
    }
   ],
   "source": [
    "augmenter.to_json()"
   ]
  },
  {
   "cell_type": "code",
   "execution_count": null,
   "metadata": {},
   "outputs": [],
   "source": [
    "a\n",
    "\n",
    "a\n",
    "\n",
    "a\n",
    "\n",
    "a\n",
    "\n"
   ]
  },
  {
   "cell_type": "code",
   "execution_count": null,
   "metadata": {},
   "outputs": [],
   "source": []
  }
 ],
 "metadata": {
  "kernelspec": {
   "display_name": "Python 3",
   "language": "python",
   "name": "python3"
  },
  "language_info": {
   "codemirror_mode": {
    "name": "ipython",
    "version": 3
   },
   "file_extension": ".py",
   "mimetype": "text/x-python",
   "name": "python",
   "nbconvert_exporter": "python",
   "pygments_lexer": "ipython3",
   "version": "3.10.12"
  },
  "orig_nbformat": 4
 },
 "nbformat": 4,
 "nbformat_minor": 2
}
