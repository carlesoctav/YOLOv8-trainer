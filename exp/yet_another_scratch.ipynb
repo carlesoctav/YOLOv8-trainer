{
 "cells": [
  {
   "cell_type": "code",
   "execution_count": 1,
   "metadata": {},
   "outputs": [
    {
     "name": "stderr",
     "output_type": "stream",
     "text": [
      "2023-08-24 01:45:31.917845: I tensorflow/compiler/xla/stream_executor/tpu/tpu_initializer_helper.cc:269] Libtpu path is: libtpu.so\n",
      "D0824 01:45:32.054594321 1961409 config.cc:112]                        gRPC EXPERIMENT tcp_frame_size_tuning               OFF (default:OFF)\n",
      "D0824 01:45:32.054614031 1961409 config.cc:112]                        gRPC EXPERIMENT tcp_rcv_lowat                       OFF (default:OFF)\n",
      "D0824 01:45:32.054619243 1961409 config.cc:112]                        gRPC EXPERIMENT peer_state_based_framing            OFF (default:OFF)\n",
      "D0824 01:45:32.054623842 1961409 config.cc:112]                        gRPC EXPERIMENT flow_control_fixes                  ON  (default:ON)\n",
      "D0824 01:45:32.054628006 1961409 config.cc:112]                        gRPC EXPERIMENT memory_pressure_controller          OFF (default:OFF)\n",
      "D0824 01:45:32.054632260 1961409 config.cc:112]                        gRPC EXPERIMENT unconstrained_max_quota_buffer_size OFF (default:OFF)\n",
      "D0824 01:45:32.054636329 1961409 config.cc:112]                        gRPC EXPERIMENT event_engine_client                 OFF (default:OFF)\n",
      "D0824 01:45:32.054640543 1961409 config.cc:112]                        gRPC EXPERIMENT monitoring_experiment               ON  (default:ON)\n",
      "D0824 01:45:32.054645001 1961409 config.cc:112]                        gRPC EXPERIMENT promise_based_client_call           OFF (default:OFF)\n",
      "D0824 01:45:32.054649092 1961409 config.cc:112]                        gRPC EXPERIMENT free_large_allocator                OFF (default:OFF)\n",
      "D0824 01:45:32.054653325 1961409 config.cc:112]                        gRPC EXPERIMENT promise_based_server_call           OFF (default:OFF)\n",
      "D0824 01:45:32.054657579 1961409 config.cc:112]                        gRPC EXPERIMENT transport_supplies_client_latency   OFF (default:OFF)\n",
      "D0824 01:45:32.054661657 1961409 config.cc:112]                        gRPC EXPERIMENT event_engine_listener               OFF (default:OFF)\n",
      "D0824 01:45:32.054665777 1961409 config.cc:112]                        gRPC EXPERIMENT schedule_cancellation_over_write    OFF (default:OFF)\n",
      "D0824 01:45:32.054669978 1961409 config.cc:112]                        gRPC EXPERIMENT trace_record_callops                OFF (default:OFF)\n",
      "D0824 01:45:32.054674365 1961409 config.cc:112]                        gRPC EXPERIMENT event_engine_dns                    OFF (default:OFF)\n",
      "I0824 01:45:32.054935777 1961409 ev_epoll1_linux.cc:122]               grpc epoll fd: 79\n",
      "D0824 01:45:32.054956201 1961409 ev_posix.cc:113]                      Using polling engine: epoll1\n",
      "D0824 01:45:32.055295418 1961409 lb_policy_registry.cc:46]             registering LB policy factory for \"priority_experimental\"\n",
      "D0824 01:45:32.055304006 1961409 lb_policy_registry.cc:46]             registering LB policy factory for \"outlier_detection_experimental\"\n",
      "D0824 01:45:32.055314626 1961409 lb_policy_registry.cc:46]             registering LB policy factory for \"weighted_target_experimental\"\n",
      "D0824 01:45:32.055320243 1961409 lb_policy_registry.cc:46]             registering LB policy factory for \"pick_first\"\n",
      "D0824 01:45:32.055325707 1961409 lb_policy_registry.cc:46]             registering LB policy factory for \"round_robin\"\n",
      "D0824 01:45:32.055331002 1961409 lb_policy_registry.cc:46]             registering LB policy factory for \"weighted_round_robin\"\n",
      "D0824 01:45:32.055342538 1961409 lb_policy_registry.cc:46]             registering LB policy factory for \"ring_hash_experimental\"\n",
      "D0824 01:45:32.055370372 1961409 lb_policy_registry.cc:46]             registering LB policy factory for \"grpclb\"\n",
      "D0824 01:45:32.055392591 1961409 dns_resolver_plugin.cc:44]            Using ares dns resolver\n",
      "D0824 01:45:32.055416442 1961409 lb_policy_registry.cc:46]             registering LB policy factory for \"rls_experimental\"\n",
      "D0824 01:45:32.055440463 1961409 lb_policy_registry.cc:46]             registering LB policy factory for \"xds_cluster_manager_experimental\"\n",
      "D0824 01:45:32.055446573 1961409 lb_policy_registry.cc:46]             registering LB policy factory for \"xds_cluster_impl_experimental\"\n",
      "D0824 01:45:32.055452120 1961409 lb_policy_registry.cc:46]             registering LB policy factory for \"cds_experimental\"\n",
      "D0824 01:45:32.055458192 1961409 lb_policy_registry.cc:46]             registering LB policy factory for \"xds_cluster_resolver_experimental\"\n",
      "D0824 01:45:32.055465264 1961409 lb_policy_registry.cc:46]             registering LB policy factory for \"xds_override_host_experimental\"\n",
      "D0824 01:45:32.055470633 1961409 lb_policy_registry.cc:46]             registering LB policy factory for \"xds_wrr_locality_experimental\"\n",
      "D0824 01:45:32.055480999 1961409 certificate_provider_registry.cc:35]  registering certificate provider factory for \"file_watcher\"\n",
      "I0824 01:45:32.057217893 1961409 ev_epoll1_linux.cc:362]               grpc epoll fd: 81\n",
      "I0824 01:45:32.079774234 1961409 socket_utils_common_posix.cc:337]     TCP_USER_TIMEOUT is available. TCP_USER_TIMEOUT will be used thereafter\n",
      "2023-08-24 01:45:32.114980: I tensorflow/core/platform/cpu_feature_guard.cc:182] This TensorFlow binary is optimized to use available CPU instructions in performance-critical operations.\n",
      "To enable the following instructions: AVX2 AVX512F FMA, in other operations, rebuild TensorFlow with the appropriate compiler flags.\n"
     ]
    },
    {
     "name": "stdout",
     "output_type": "stream",
     "text": [
      "Using TensorFlow backend\n"
     ]
    },
    {
     "name": "stderr",
     "output_type": "stream",
     "text": [
      "/home/carles/.local/lib/python3.10/site-packages/tqdm/auto.py:21: TqdmWarning: IProgress not found. Please update jupyter and ipywidgets. See https://ipywidgets.readthedocs.io/en/stable/user_install.html\n",
      "  from .autonotebook import tqdm as notebook_tqdm\n"
     ]
    }
   ],
   "source": [
    "import sys\n",
    "sys.path.append('../')\n",
    "from modules import YOLOv8Trainer, XMLDataset\n"
   ]
  },
  {
   "cell_type": "code",
   "execution_count": 2,
   "metadata": {},
   "outputs": [],
   "source": [
    "trainer = YOLOv8Trainer(\"../config.yaml\")"
   ]
  },
  {
   "cell_type": "code",
   "execution_count": 3,
   "metadata": {},
   "outputs": [
    {
     "data": {
      "text/plain": [
       "{'model': {'backbone': 'yolo_v8_xs_backbone_coco',\n",
       "  'classes': ['jempol', 'five', 'three', 'v sign'],\n",
       "  'fpn_depth': 2,\n",
       "  'bounding_box_format': 'xywh'},\n",
       " 'train': {'strategy': 'freeze',\n",
       "  'epochs': 100,\n",
       "  'accelerator': 'tpu',\n",
       "  'classification_loss': 'binary_crossentropy',\n",
       "  'box_loss': 'ciou',\n",
       "  'optimizer_1': {'class_name': 'Adam',\n",
       "   'config': {'learning_rate': 0.0001, 'global_clipnorm': 10.0}},\n",
       "  'optimizer_2': {'class_name': 'Adam',\n",
       "   'config': {'learning_rate': 1e-06, 'global_clipnorm': 10.0}}},\n",
       " 'logger': None,\n",
       " 'dataset': {'dataset_path': '../datasets',\n",
       "  'type': 'XML',\n",
       "  'val_split': 0.2,\n",
       "  'batch_size': 16,\n",
       "  'image_size': '(640, 640)'},\n",
       " 'Augmenter': None}"
      ]
     },
     "execution_count": 3,
     "metadata": {},
     "output_type": "execute_result"
    }
   ],
   "source": [
    "trainer.config"
   ]
  },
  {
   "cell_type": "code",
   "execution_count": null,
   "metadata": {},
   "outputs": [],
   "source": [
    "trainer.configure_model()"
   ]
  },
  {
   "cell_type": "code",
   "execution_count": null,
   "metadata": {},
   "outputs": [],
   "source": [
    "trainer.compile()"
   ]
  },
  {
   "cell_type": "code",
   "execution_count": 2,
   "metadata": {},
   "outputs": [],
   "source": [
    "dataset = XMLDataset('../config.yaml')"
   ]
  },
  {
   "cell_type": "code",
   "execution_count": 6,
   "metadata": {},
   "outputs": [
    {
     "name": "stdout",
     "output_type": "stream",
     "text": [
      "['jempol', 'five', 'three', 'v sign']\n",
      "{0: 'jempol', 1: 'five', 2: 'three', 3: 'v sign'}\n",
      "../datasets/Annotations\n",
      "../datasets/images\n"
     ]
    },
    {
     "ename": "AttributeError",
     "evalue": "'XMLDataset' object has no attribute 'xml_files'",
     "output_type": "error",
     "traceback": [
      "\u001b[0;31m---------------------------------------------------------------------------\u001b[0m",
      "\u001b[0;31mAttributeError\u001b[0m                            Traceback (most recent call last)",
      "Cell \u001b[0;32mIn[6], line 5\u001b[0m\n\u001b[1;32m      3\u001b[0m \u001b[39mprint\u001b[39m(dataset\u001b[39m.\u001b[39mpath_annotations)\n\u001b[1;32m      4\u001b[0m \u001b[39mprint\u001b[39m(dataset\u001b[39m.\u001b[39mpath_images)\n\u001b[0;32m----> 5\u001b[0m \u001b[39mprint\u001b[39m(dataset\u001b[39m.\u001b[39;49mxml_files)\n",
      "\u001b[0;31mAttributeError\u001b[0m: 'XMLDataset' object has no attribute 'xml_files'"
     ]
    }
   ],
   "source": [
    "print(dataset.class_ids)\n",
    "print(dataset.class_mapping)\n",
    "print(dataset.path_annotations)\n",
    "print(dataset.path_images)\n",
    "print(dataset.xml_files)"
   ]
  },
  {
   "cell_type": "code",
   "execution_count": 7,
   "metadata": {},
   "outputs": [
    {
     "name": "stderr",
     "output_type": "stream",
     "text": [
      "100%|██████████| 8/8 [00:00<00:00, 4752.08it/s]\n",
      "2023-08-24 01:48:08.044477: I tensorflow/compiler/xla/service/service.cc:168] XLA service 0x5624c883d820 initialized for platform TPU (this does not guarantee that XLA will be used). Devices:\n",
      "2023-08-24 01:48:08.044524: I tensorflow/compiler/xla/service/service.cc:176]   StreamExecutor device (0): TPU, 2a886c8\n",
      "2023-08-24 01:48:08.044535: I tensorflow/compiler/xla/service/service.cc:176]   StreamExecutor device (1): TPU, 2a886c8\n",
      "2023-08-24 01:48:08.044546: I tensorflow/compiler/xla/service/service.cc:176]   StreamExecutor device (2): TPU, 2a886c8\n",
      "2023-08-24 01:48:08.044556: I tensorflow/compiler/xla/service/service.cc:176]   StreamExecutor device (3): TPU, 2a886c8\n",
      "2023-08-24 01:48:08.044566: I tensorflow/compiler/xla/service/service.cc:176]   StreamExecutor device (4): TPU, 2a886c8\n",
      "2023-08-24 01:48:08.044577: I tensorflow/compiler/xla/service/service.cc:176]   StreamExecutor device (5): TPU, 2a886c8\n",
      "2023-08-24 01:48:08.044587: I tensorflow/compiler/xla/service/service.cc:176]   StreamExecutor device (6): TPU, 2a886c8\n",
      "2023-08-24 01:48:08.044597: I tensorflow/compiler/xla/service/service.cc:176]   StreamExecutor device (7): TPU, 2a886c8\n"
     ]
    }
   ],
   "source": [
    "dataset.build_data()"
   ]
  },
  {
   "cell_type": "code",
   "execution_count": 12,
   "metadata": {},
   "outputs": [
    {
     "data": {
      "text/plain": [
       "(<tf.Tensor: shape=(), dtype=string, numpy=b'../datasets/images/0173bbd8-WIN_20230823_13_25_14_Pro.jpg'>,\n",
       " <tf.Tensor: shape=(1,), dtype=int32, numpy=array([0], dtype=int32)>,\n",
       " <tf.RaggedTensor [[147.0, 11.0, 546.0, 597.0]]>)"
      ]
     },
     "execution_count": 12,
     "metadata": {},
     "output_type": "execute_result"
    }
   ],
   "source": [
    "next(iter(dataset.data.take(1)))"
   ]
  }
 ],
 "metadata": {
  "kernelspec": {
   "display_name": "Python 3",
   "language": "python",
   "name": "python3"
  },
  "language_info": {
   "codemirror_mode": {
    "name": "ipython",
    "version": 3
   },
   "file_extension": ".py",
   "mimetype": "text/x-python",
   "name": "python",
   "nbconvert_exporter": "python",
   "pygments_lexer": "ipython3",
   "version": "3.10.12"
  },
  "orig_nbformat": 4
 },
 "nbformat": 4,
 "nbformat_minor": 2
}
